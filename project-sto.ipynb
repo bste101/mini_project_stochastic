{
 "cells": [
  {
   "cell_type": "code",
   "execution_count": 31,
   "id": "e8cb0bdb",
   "metadata": {},
   "outputs": [
    {
     "name": "stdout",
     "output_type": "stream",
     "text": [
      "p = 0.342000000000000\n"
     ]
    }
   ],
   "source": [
    "Y0 = 223\n",
    "Y1 =249\n",
    "X0 = Y0 + Y1\n",
    "X1 = 30\n",
    "X2 = 32\n",
    "n = 10000 #sample size\n",
    "p = 0.31 + (X2/1000) #probability\n",
    "print(f\"p = {p}\")\n",
    "N = 10  #number of trial in"
   ]
  },
  {
   "cell_type": "code",
   "execution_count": 32,
   "id": "753b398e",
   "metadata": {},
   "outputs": [
    {
     "data": {
      "image/png": "[encoded data removed]",
      "text/plain": [
       "<Figure size 432x288 with 1 Axes>"
      ]
     },
     "metadata": {
      "needs_background": "light"
     },
     "output_type": "display_data"
    }
   ],
   "source": [
    "#This is source code in sagemat\n",
    "#Binomial Distributions\n",
    "import numpy as np\n",
    "import matplotlib.pyplot as plt\n",
    "X = np.random.binomial(N,p,n) #Random sequence of BinomialRV.\n",
    "maxX = X.max()\n",
    "minX = X.min()\n",
    "e = srange(minX - 0.5, maxX +1)\n",
    "counts, bins = np.histogram(X, bins=e)\n",
    "plt.hist(X, bins=e)\n",
    "plt.title(\"Histogram with bins=e\")\n",
    "plt.show()\n",
    "Mn = np.mean(X)\n",
    "Pn = Mn / N"
   ]
  },
  {
   "cell_type": "code",
   "execution_count": 44,
   "id": "27cfeaec",
   "metadata": {
    "scrolled": true
   },
   "outputs": [
    {
     "data": {
      "image/png": "[encoded data removed]",
      "text/plain": [
       "<Figure size 432x288 with 1 Axes>"
      ]
     },
     "metadata": {
      "needs_background": "light"
     },
     "output_type": "display_data"
    }
   ],
   "source": [
    "# PMF of Binomial Distributions\n",
    "from scipy import stats\n",
    "from scipy.stats import binom\n",
    "k = np.arange(0,N + 1)\n",
    "PMF = binom.pmf(k,N,Pn)\n",
    "fig,ax = plt.subplots(1, 1)\n",
    "ax.plot(k,PMF, 'ro' , ms = 12 , mec = 'r' )\n",
    "ax.vlines(k,0,PMF,colors = 'r' , lw = 4 )\n",
    "plt.show ()\n"
   ]
  },
  {
   "cell_type": "code",
   "execution_count": 45,
   "id": "d393ccdf",
   "metadata": {},
   "outputs": [
    {
     "name": "stdout",
     "output_type": "stream",
     "text": [
      "X = [3 4 4 ... 1 1 5]\n",
      "minX = 0\n",
      "maxX = 9\n",
      "e = [-0.5, 0.5, 1.5, 2.5, 3.5, 4.5, 5.5, 6.5, 7.5, 8.5, 9.5]\n",
      "k = [ 0  1  2  3  4  5  6  7  8  9 10]\n",
      "Mn = 3.4079\n",
      "Pn = 0.34079000000000004\n",
      "count of bin = [ 123  810 1897 2562 2341 1418  643  172   33    1]\n",
      "PMF = [0.01549665 0.08011262 0.18637021 0.25692613 0.23243921 0.14419616\n",
      " 0.06212058 0.01835103 0.00355758 0.0004087  0.00002113]\n"
     ]
    }
   ],
   "source": [
    "print(f\"X = {X}\")\n",
    "print(f\"minX = {minX}\")\n",
    "print(f\"maxX = {maxX}\")\n",
    "print(f\"e = {e}\")\n",
    "print(f\"k = {k}\")\n",
    "print(f\"Mn = {Mn}\")\n",
    "print(f\"Pn = {Pn}\")\n",
    "print(f\"count of bin = {counts}\")\n",
    "print(f\"PMF = {PMF}\")"
   ]
  },
  {
   "cell_type": "code",
   "execution_count": 39,
   "id": "99ea3af1",
   "metadata": {},
   "outputs": [
    {
     "name": "stdout",
     "output_type": "stream",
     "text": [
      "X = [3 4 4 ... 1 1 5]\n",
      "H = [123, 810, 1897, 2562, 2341, 1418, 643, 172, 33, 1, 0] \n",
      "Z = 12.040684698220668 \n"
     ]
    }
   ],
   "source": [
    "print(f\"X = {X}\")\n",
    "# Compute a statistics , Z\n",
    "H = list(np.bincount(X))\n",
    "for j in srange(len(H), N+1):\n",
    "    H.append(0)\n",
    "Z = 0\n",
    "for j in range(N+1):\n",
    "    Z += (H[j]-n*PMF[j])^2/(n*PMF[j])\n",
    "print(f\"H = {H} \")\n",
    "print(f\"Z = {Z} \")"
   ]
  },
  {
   "cell_type": "code",
   "execution_count": 41,
   "id": "cdc7f806",
   "metadata": {},
   "outputs": [
    {
     "name": "stdout",
     "output_type": "stream",
     "text": [
      "bins = 10\n",
      "degree of freedom = 8 \n",
      "statisticsZ = 12.040684698220668\n",
      "Zα = 15.507313055865449\n",
      "A candidate pmf is a good fit to the data.\n"
     ]
    }
   ],
   "source": [
    "#chi squared dist\n",
    "alpha = 0.05\n",
    "m = len(e) - 1\n",
    "print(f\"bins = {m}\")\n",
    "r = 1\n",
    "dof = m - 1 - r\n",
    "print(f\"degree of freedom = {dof} \")\n",
    "chi_squared_dist = RealDistribution('chisquared', dof)\n",
    "Zα = chi_squared_dist.cum_distribution_function_inv(1-alpha) #threshold zα\n",
    "print(f\"statisticsZ = {Z}\")\n",
    "print(f\"Zα = {Zα}\")\n",
    "if Z < Zα:\n",
    "    print(\"A candidate pmf is a good fit to the data.\")\n",
    "else:\n",
    "    print(\"A candidate pmf is not a good fit to the data.\")"
   ]
  },
  {
   "cell_type": "code",
   "execution_count": 42,
   "id": "5745789e",
   "metadata": {},
   "outputs": [
    {
     "name": "stdout",
     "output_type": "stream",
     "text": [
      "X = [3 4 4 ... 1 1 5] \n",
      "Sn = 1.483083795257158 \n"
     ]
    }
   ],
   "source": [
    "print(f\"X = {X} \")\n",
    "Sn = np.std(X, ddof =1) #Standard division\n",
    "print(f\"Sn = {Sn} \")"
   ]
  },
  {
   "cell_type": "code",
   "execution_count": 43,
   "id": "8e8d81ec",
   "metadata": {},
   "outputs": [
    {
     "name": "stdout",
     "output_type": "stream",
     "text": [
      "yα/2 = 1.960\n",
      "confidence interval = [3.3788285727048057, 3.4369714272951946]\n"
     ]
    }
   ],
   "source": [
    "#T-distribution\n",
    "n = 10000 #sample size\n",
    "alpha = 0.05 #alpha 0.05%\n",
    "v = n - 1 #degree of freedom\n",
    "T = RealDistribution('t', v)\n",
    "yα = T.cum_distribution_function_inv(1-alpha/2) #yα/2\n",
    "print(f\"yα/2 = {yα.n(digits=4)}\")\n",
    "confidence_interval = [Mn - (yα * Sn / np.sqrt(n)), Mn + (yα * Sn / np.sqrt(n))]\n",
    "print(f\"confidence interval = {confidence_interval}\")"
   ]
  }
 ],
 "metadata": {
  "kernelspec": {
   "display_name": "SageMath 9.5",
   "language": "sage",
   "name": "sagemath"
  },
  "language_info": {
   "codemirror_mode": {
    "name": "ipython",
    "version": 3
   },
   "file_extension": ".py",
   "mimetype": "text/x-python",
   "name": "python",
   "nbconvert_exporter": "python",
   "pygments_lexer": "ipython3",
   "version": "3.10.12"
  }
 },
 "nbformat": 4,
 "nbformat_minor": 5
}
